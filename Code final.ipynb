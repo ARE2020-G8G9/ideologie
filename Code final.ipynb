{
 "cells": [
  {
   "cell_type": "markdown",
   "metadata": {},
   "source": [
    " ## Partie 01 : caractéristiques de l'idéologie"
   ]
  },
  {
   "cell_type": "markdown",
   "metadata": {},
   "source": [
    "### a) Charisme de l'idéologie "
   ]
  },
  {
   "cell_type": "markdown",
   "metadata": {},
   "source": [
    "On note le charisme du leader sur une échelle de 1 à 10.\n",
    "\n",
    "1 represente un total manque de charisme, 5 un charisme banal, 10 un très fort charisme."
   ]
  },
  {
   "cell_type": "code",
   "execution_count": 101,
   "metadata": {},
   "outputs": [
    {
     "data": {
      "text/plain": [
       "34"
      ]
     },
     "execution_count": 101,
     "metadata": {},
     "output_type": "execute_result"
    }
   ],
   "source": [
    "def var_char(pop, ad_in, charisme):\n",
    "    \"\"\"int*int -> int\" \n",
    "    retourne la variation d'adhesion en fonction du charisme du leader\"\"\"\n",
    "    ad = ad_in;\n",
    "    \n",
    "    if charisme>=5 :\n",
    "        ad = ad + pop*(charisme*0.03)\n",
    "    \n",
    "    return int(ad)\n",
    "\n",
    "var_char(100,4,10)  "
   ]
  },
  {
   "cell_type": "markdown",
   "metadata": {},
   "source": [
    "### b) Morale de l'idéologie :"
   ]
  },
  {
   "cell_type": "markdown",
   "metadata": {},
   "source": [
    "Nous partons avec la vision manichéenne de la moral (bien et mal).\n",
    "\n",
    "Nous la notons sur une echelles de 1 à 10 ( 1 : morale très faible, 10 : morale forte)\n",
    "\n",
    "si la morazle est basse mais que le nombre d'adherentse est elevé (+ de 75%), la notion de morale devient floue pour les individus et on constatera une \"hausse\" de l'adhesion avec toujours une minorité à l'esprit critique.\n",
    "\n",
    "Pareil, lorsque la morale et forte mais que trop de gens y adhère, une minorité d'individus choisis de ne pas y adhérer.\n",
    "\n",
    "Il n'y aura jamais 100% d'adherents car la morale est un trait très subjectif."
   ]
  },
  {
   "cell_type": "code",
   "execution_count": 79,
   "metadata": {},
   "outputs": [
    {
     "data": {
      "text/plain": [
       "990"
      ]
     },
     "execution_count": 79,
     "metadata": {},
     "output_type": "execute_result"
    }
   ],
   "source": [
    "def var_mor(pop, ad_in, moral, gen):\n",
    "    \"\"\n",
    "    ad = ad_in;\n",
    "    if moral<5 :\n",
    "        if gen == 1 :\n",
    "            return ad_in\n",
    "        if ad >= pop*0.75 :\n",
    "            if (ad + ad_in*0.04)< pop :\n",
    "                ad = ad + ad_in*0.04\n",
    "            else :\n",
    "                ad = pop\n",
    "            \"representation de la minorité à l'esprit critique present dans tous les cas\"\n",
    "            ad = ad - ad*0.01\n",
    "    if moral >= 5 :\n",
    "        if (ad + ad_in*(moral*0.01))< pop :\n",
    "            ad = ad + ad_in*(moral*0.01)\n",
    "        if (ad + ad_in*(moral*0.02))> pop :\n",
    "            ad = pop\n",
    "        if ad >= pop*0.75 : \n",
    "            ad = ad - ad*0.01\n",
    "        \"representation de la minorité pas d'accord lorsque trop de gens sont d'accord\"\n",
    "        \n",
    "    if ad < 0 :\n",
    "        return 0\n",
    "    return int(ad)\n",
    "        \n",
    "var_mor(1000, 1000, 9, 2)"
   ]
  },
  {
   "cell_type": "markdown",
   "metadata": {},
   "source": [
    "### c) Véracité scientifique de l'idéologie"
   ]
  },
  {
   "cell_type": "markdown",
   "metadata": {},
   "source": [
    "Elle sera définie par deux valeurs: \"1\" lorsque l'idéologie se base sur des faits scientifiquement corrects, \"0\" lorsque la science ne supporte pas cette idée. \n",
    "\n",
    "Cela dépendra également du type de population. \n",
    "\n",
    "On définiera deux types de populations(ouverte, traditionnaliste).\n",
    "Population science-friendly : 1\n",
    "Population scientifico-sceptique : 0"
   ]
  },
  {
   "cell_type": "code",
   "execution_count": 77,
   "metadata": {},
   "outputs": [
    {
     "data": {
      "text/plain": [
       "1000"
      ]
     },
     "execution_count": 77,
     "metadata": {},
     "output_type": "execute_result"
    }
   ],
   "source": [
    "def val_sci(pop, ad_in, science, typ_pop_science):\n",
    "    \"\"\n",
    "    ad = ad_in\n",
    "    if (science == 0 and typ_pop_science == 0) or  (science == 1 and typ_pop_science == 1) :\n",
    "        ad = ad + ad_in*0.05\n",
    "        if ad > pop :\n",
    "            ad =  pop\n",
    "        else :\n",
    "            ad = int(ad)\n",
    "    if (science == 0 and typ_pop_science == 1) or (science == 1 and typ_pop_science == 0) :\n",
    "        ad = int(ad - ad_in*0.05)\n",
    "        if ad < 0 :\n",
    "            return 0\n",
    "    return ad\n",
    "    \n",
    "val_sci(1000, 990, 1, 1)        "
   ]
  },
  {
   "cell_type": "markdown",
   "metadata": {},
   "source": [
    "## Test 1\n",
    "\n",
    "Nous allons définir des variables, puis observer le changement d'adhérants à l'idéologie selon les facteurs énumérés plus haut.\n",
    "Nous comparerons ensuite cela à la version final après l'ajout d'autres facteurs."
   ]
  },
  {
   "cell_type": "code",
   "execution_count": 71,
   "metadata": {},
   "outputs": [],
   "source": [
    "#population de départ \n",
    "pop = 1000\n",
    "#adherent de départ\n",
    "ad_in = 20\n",
    "#generation \n",
    "gen = 10\n",
    "#moral\n",
    "moral = 5\n",
    "#charisme \n",
    "charisme = 10\n",
    "#science\n",
    "science = 0\n",
    "#Type croyance scientifique de la population\n",
    "typ_pop_science = 0"
   ]
  },
  {
   "cell_type": "code",
   "execution_count": 80,
   "metadata": {},
   "outputs": [
    {
     "data": {
      "text/plain": [
       "[20, 0, 0, 0, 0, 0, 0, 0, 0, 0, 0]"
      ]
     },
     "execution_count": 80,
     "metadata": {},
     "output_type": "execute_result"
    }
   ],
   "source": [
    "def cara_idee(pop, ad_in, gen, mor, charisme, science) :\n",
    "    \"\"\"\"int*float*int*float*float*float -> int\n",
    "    retourne le nombre d'adherants à une idée en fonction des 3 caractéristiques d'une idée pendant un certain nombre de generations\"\"\"\n",
    "    compt = 0\n",
    "    A = ad_in\n",
    "    L = [ad_in]\n",
    "    while compt < gen :\n",
    "        A = var_char(pop, A, charisme)\n",
    "        A = var_mor(pop, A, moral, gen)\n",
    "        A = val_sci(pop, A, science, typ_pop_science)\n",
    "        \n",
    "        L.append(A)\n",
    "        compt = compt + 1\n",
    "    return L\n",
    "\n",
    "cara_idee(pop, ad_in, gen, 10, 3, science)"
   ]
  },
  {
   "cell_type": "code",
   "execution_count": 104,
   "metadata": {},
   "outputs": [
    {
     "data": {
      "image/png": "[encoded data removed]",
      "text/plain": [
       "<Figure size 432x288 with 1 Axes>"
      ]
     },
     "metadata": {
      "needs_background": "light"
     },
     "output_type": "display_data"
    }
   ],
   "source": [
    "import numpy as np\n",
    "import matplotlib.pyplot as plt\n",
    "\n",
    "\n",
    "#A : exemple\n",
    "A = cara_idee(pop, ad_in, gen, 3, charisme, science)\n",
    "#B : exemple avec forte morale\n",
    "B = cara_idee(pop, ad_in, gen, 10, 3, science)\n",
    "plt.figure()\n",
    "plt.plot(A)\n",
    "plt.plot(B)\n",
    "\n",
    "plt.ylabel(\"Nombre d'adhérants\")\n",
    "plt.xlabel(\"nombres d'années\")\n",
    "\n",
    "plt.show()"
   ]
  },
  {
   "cell_type": "markdown",
   "metadata": {},
   "source": [
    "## Partie 02 : Les facteurs sociaux "
   ]
  },
  {
   "cell_type": "markdown",
   "metadata": {},
   "source": [
    "Deux facteurs entrent en jeu : la classe social et l'environnement. \n",
    "\n",
    "Nous avons déjà pris en compte les adherents pour la morale de départ ce qui constitue deja un facteur social. \n",
    "\n",
    "Nous allons prendre en compte le facteur de la classe sociale et le penchant politique de l'idéologie."
   ]
  },
  {
   "cell_type": "markdown",
   "metadata": {},
   "source": [
    "### a) Classes sociales :"
   ]
  },
  {
   "cell_type": "markdown",
   "metadata": {},
   "source": [
    "Cela va constituer notre base. \n",
    "En effet on prend les classes des individus comme appuyie pour connaitre le nombre approximatif d'adhérants à une idée au départ."
   ]
  },
  {
   "cell_type": "code",
   "execution_count": 44,
   "metadata": {},
   "outputs": [],
   "source": [
    "#On se base sur des études faites en 2010 (la gauche l'emporte cette année là), \n",
    "#(et je m'y attendais pas mais les ouvriers votent plus à droite ??)\n",
    "#les bobos à gauche \n",
    "\n",
    "#classe moyenne : 70% de chance de voter à gauche et 30% à droite \n",
    "taux_classe_sup = 0.0\n",
    "#classe ouvrière : 49% de chance de voter à gauche et 51% à droite\n",
    "taux_classe_inf = 0.9\n",
    "#classe supérieure : 58% de chance de voter à gauche et 42% à droite\n",
    "taux_classe_moy = 0.1\n",
    "type_classe = 'droite'"
   ]
  },
  {
   "cell_type": "code",
   "execution_count": 46,
   "metadata": {},
   "outputs": [
    {
     "data": {
      "text/plain": [
       "483"
      ]
     },
     "execution_count": 46,
     "metadata": {},
     "output_type": "execute_result"
    }
   ],
   "source": [
    "def classe(pop, taux_classe_sup, taux_classe_inf, taux_classe_moy, type_classe):\n",
    "    if type_classe == 'gauche' :\n",
    "        A = taux_classe_sup*pop*0.7 + taux_classe_inf*pop*0.51 + taux_classe_moy*pop*0.58\n",
    "    if type_classe == 'droite' :\n",
    "        A = taux_classe_sup*pop*0.3 + taux_classe_inf*pop*0.49 + taux_classe_moy*pop*0.42\n",
    "    return int(A)\n",
    "    \n",
    "classe(pop, taux_classe_sup, taux_classe_inf, taux_classe_moy, type_classe)    "
   ]
  },
  {
   "cell_type": "markdown",
   "metadata": {},
   "source": [
    "On va génerer un nombre aléatoire (mais pas si aléatoire que ça) d'adherants de départ."
   ]
  },
  {
   "cell_type": "code",
   "execution_count": 58,
   "metadata": {},
   "outputs": [
    {
     "data": {
      "text/plain": [
       "250"
      ]
     },
     "execution_count": 58,
     "metadata": {},
     "output_type": "execute_result"
    }
   ],
   "source": [
    "import random\n",
    "\n",
    "def adherents_depart(pop, taux_classe_sup, taux_classe_inf, taux_classe_moy, type_classe):\n",
    "    return int(random.randint(1,classe(pop, taux_classe_sup, taux_classe_inf, taux_classe_moy, type_classe)+1))\n",
    "\n",
    "    \n",
    "    \n",
    "    \n",
    "adherents_depart(pop, taux_classe_sup, taux_classe_inf, taux_classe_moy, type_classe)"
   ]
  },
  {
   "cell_type": "markdown",
   "metadata": {},
   "source": [
    "### b) influence de l'entourage et effet de masse :\n",
    "\n",
    "Nous nous interessant ici à l'évolution des adhésions en fonctions du nombre d'adhérants de départ."
   ]
  },
  {
   "cell_type": "code",
   "execution_count": 59,
   "metadata": {},
   "outputs": [],
   "source": [
    "def var_social(pop, ad_in):\n",
    "    ad = ad_in\n",
    "    if ad < pop :\n",
    "        if ad_in < 0.5*pop :\n",
    "            if ad_in <= 0.25*pop :\n",
    "                ad =(ad - ad*0.1)\n",
    "            else :\n",
    "                ad =(ad - ad*0.01)\n",
    "        if ad_in >= 0.5*pop :\n",
    "            if ad_in >= 0.75*pop :\n",
    "                ad =(ad + ad*0.1)\n",
    "            else :\n",
    "                ad =(ad + ad*0.01)\n",
    "    if ad >= pop :\n",
    "        return pop\n",
    "    return ad"
   ]
  },
  {
   "cell_type": "markdown",
   "metadata": {},
   "source": [
    "## Test 2 \n",
    "\n",
    "On test le code, en prenant cette fois ci en compte l'influence de l'entourage."
   ]
  },
  {
   "cell_type": "code",
   "execution_count": 87,
   "metadata": {},
   "outputs": [
    {
     "data": {
      "text/plain": [
       "[255, 607, 1000, 1000, 1000, 1000, 1000, 1000, 1000, 1000, 1000]"
      ]
     },
     "execution_count": 87,
     "metadata": {},
     "output_type": "execute_result"
    }
   ],
   "source": [
    "def presque_final (pop,ad_in, gen, taux_classe_sup, taux_classe_inf, taux_classe_moy, type_classe, moral, charisme, science):\n",
    "    compt = 0\n",
    "    A = ad_in\n",
    "    L = [ad_in]\n",
    "    while compt < gen :\n",
    "        A = var_social(pop, A)\n",
    "        A = var_char(pop, A, charisme)\n",
    "        A = var_mor(pop, A, moral, gen)\n",
    "        A = val_sci(pop, A, science, typ_pop_science)\n",
    "        \n",
    "        L.append(A)\n",
    "        compt = compt + 1\n",
    "    return L\n",
    "presque_final(pop,ad_in, gen, taux_classe_sup, taux_classe_inf, taux_classe_moy, type_classe, moral, charisme, science)"
   ]
  },
  {
   "cell_type": "code",
   "execution_count": 108,
   "metadata": {},
   "outputs": [
    {
     "data": {
      "image/png": "[encoded data removed]",
      "text/plain": [
       "<Figure size 432x288 with 1 Axes>"
      ]
     },
     "metadata": {
      "needs_background": "light"
     },
     "output_type": "display_data"
    }
   ],
   "source": [
    "import numpy as np\n",
    "import matplotlib.pyplot as plt\n",
    "\n",
    "\n",
    "#A : exemple\n",
    "A = presque_final (pop,ad_in, gen, taux_classe_sup, taux_classe_inf, taux_classe_moy, type_classe, 10, 4, science)\n",
    "#B : exemple avec forte morale\n",
    "B = presque_final (pop,ad_in, gen, taux_classe_sup, taux_classe_inf, taux_classe_moy, type_classe, 10, 10, science)\n",
    "plt.figure()\n",
    "plt.plot(A)\n",
    "plt.plot(B)\n",
    "\n",
    "plt.ylabel(\"Nombre d'adhérants\")\n",
    "plt.xlabel(\"nombres d'années\")\n",
    "\n",
    "plt.show()"
   ]
  },
  {
   "cell_type": "markdown",
   "metadata": {},
   "source": [
    "On modifie la variable \"ad_in\" pour quelle corresponde le plus possible à la réalité en se basant sur le vote de classe."
   ]
  },
  {
   "cell_type": "code",
   "execution_count": 82,
   "metadata": {},
   "outputs": [
    {
     "name": "stdout",
     "output_type": "stream",
     "text": [
      "255\n"
     ]
    }
   ],
   "source": [
    "ad_in = adherents_depart(pop, taux_classe_sup, taux_classe_inf, taux_classe_moy, type_classe)\n",
    "print(ad_in)"
   ]
  },
  {
   "cell_type": "code",
   "execution_count": null,
   "metadata": {},
   "outputs": [],
   "source": []
  }
 ],
 "metadata": {
  "kernelspec": {
   "display_name": "Python 3",
   "language": "python",
   "name": "python3"
  },
  "language_info": {
   "codemirror_mode": {
    "name": "ipython",
    "version": 3
   },
   "file_extension": ".py",
   "mimetype": "text/x-python",
   "name": "python",
   "nbconvert_exporter": "python",
   "pygments_lexer": "ipython3",
   "version": "3.7.4"
  }
 },
 "nbformat": 4,
 "nbformat_minor": 2
}
